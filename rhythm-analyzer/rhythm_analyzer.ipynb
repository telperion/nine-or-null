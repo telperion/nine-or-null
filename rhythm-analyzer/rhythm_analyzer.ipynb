{
 "cells": [
  {
   "cell_type": "code",
   "execution_count": null,
   "metadata": {},
   "outputs": [],
   "source": [
    "import numpy as np\n",
    "from matplotlib import pyplot as plt\n",
    "import simfile\n",
    "from simfile.notes import NoteData, NoteType\n",
    "from simfile.timing import Beat, TimingData\n",
    "from simfile.timing.engine import TimingEngine\n",
    "import svg"
   ]
  },
  {
   "cell_type": "code",
   "execution_count": null,
   "metadata": {},
   "outputs": [],
   "source": [
    "qtzn = ['#999999'] * 48\n",
    "\n",
    "colors = {\n",
    "    4: '#FF0000',\n",
    "    8: '#0000FF',\n",
    "    12: '#FF00FF',\n",
    "    16: '#009900',\n",
    "    24: '#9900FF',\n",
    "    32: '#FF6600',\n",
    "    48: '#CC0066',\n",
    "    64: '#0099FF',\n",
    "    96: '#66BBBB',\n",
    "    192: '#336666'\n",
    "}\n",
    "\n",
    "for q in reversed([k for k in colors]):\n",
    "    for i in range(0, 48, 192 // q):\n",
    "        qtzn[i] = colors[q]"
   ]
  },
  {
   "cell_type": "code",
   "execution_count": null,
   "metadata": {},
   "outputs": [],
   "source": [
    "def plot_rhythms(sm, chart = None, measure_length: float = 4, time_based: bool = False):\n",
    "    if chart is None:\n",
    "        chart = sm.charts[0]\n",
    "    note_data = NoteData(chart)\n",
    "    note_positions = []\n",
    "\n",
    "    if time_based:\n",
    "        engine = TimingEngine(TimingData(sm, chart))\n",
    "        # print(TimingData(sm, chart).bpms)\n",
    "        for note in note_data:\n",
    "            if note.note_type not in [NoteType.MINE, NoteType.TAIL]:\n",
    "                m = note.beat.numerator // (measure_length * note.beat.denominator)\n",
    "                v = engine.time_at(note.beat) -- engine.time_at((measure_length * m))\n",
    "                t = (note.beat.numerator * (48 // note.beat.denominator)) % 48\n",
    "                # print(f'{note.beat}: {m} r{v:0.6f} ({t}) @ {engine.bpm_at(note.beat):0.3f} BPM')\n",
    "                note_positions.append((m, v, t))\n",
    "    else:\n",
    "        for note in note_data:\n",
    "            if note.note_type not in [NoteType.MINE, NoteType.TAIL]:\n",
    "                m = note.beat.numerator // (measure_length * note.beat.denominator)\n",
    "                v = note.beat -- (measure_length * m)\n",
    "                t = (note.beat.numerator * (48 // note.beat.denominator)) % 48\n",
    "                # print(f'{note.beat}: {m} r{v} ({t})')\n",
    "                note_positions.append((m, v, t))\n",
    "    \n",
    "    fig_width = max([v[0] for v in note_positions])\n",
    "    fig_height = 8 * measure_length\n",
    "    fig_scale = 18\n",
    "\n",
    "    fig = plt.figure(figsize=(fig_scale, fig_height * fig_scale / fig_width))\n",
    "    plt.scatter(\n",
    "        [v[0] for v in note_positions],\n",
    "        [v[1] for v in note_positions],\n",
    "        c = [qtzn[v[2]] for v in note_positions],\n",
    "        marker = '.'\n",
    "    )\n",
    "    plt.show()"
   ]
  },
  {
   "cell_type": "code",
   "execution_count": null,
   "metadata": {},
   "outputs": [],
   "source": [
    "simfile_test = simfile.open(\n",
    "    r'C:\\Games\\ITGmania\\Songs\\RIP 13 Singles\\[T10] Slaughta\\slaughta.ssc'\n",
    ")\n",
    "plot_rhythms(simfile_test)\n"
   ]
  },
  {
   "cell_type": "code",
   "execution_count": null,
   "metadata": {},
   "outputs": [],
   "source": [
    "simfile_test = simfile.open(\n",
    "    r'C:\\Games\\ITGmania\\Songs\\RIP 13 Singles\\[T10] DUAL BREAKER XX (No CMOD)\\DUAL BREAKER XX.ssc'\n",
    ")\n",
    "plot_rhythms(simfile_test)"
   ]
  },
  {
   "cell_type": "code",
   "execution_count": null,
   "metadata": {},
   "outputs": [],
   "source": [
    "simfile_test = simfile.open(\n",
    "    r'C:\\Games\\ITGmania\\Songs\\RIP 13 Singles\\[T10] Field of View\\Field of View.ssc'\n",
    ")\n",
    "plot_rhythms(simfile_test)"
   ]
  },
  {
   "cell_type": "code",
   "execution_count": null,
   "metadata": {},
   "outputs": [],
   "source": [
    "simfile_test = simfile.open(\n",
    "    r'C:\\Games\\ITGmania\\Songs\\RIP 13 Singles\\[T10] Arcology on Permafrost\\Arcology On Permafrost.ssc'\n",
    ")\n",
    "plot_rhythms(simfile_test)"
   ]
  },
  {
   "cell_type": "code",
   "execution_count": null,
   "metadata": {},
   "outputs": [],
   "source": [
    "simfile_test = simfile.open(\n",
    "    r'C:\\Games\\ITGmania\\Songs\\RIP 13 Singles\\[T10] bipolar\\bipolar.ssc'\n",
    ")\n",
    "plot_rhythms(simfile_test)"
   ]
  },
  {
   "cell_type": "code",
   "execution_count": null,
   "metadata": {},
   "outputs": [],
   "source": [
    "simfile_test = simfile.open(\n",
    "    r'C:\\Games\\ITGmania\\Songs\\RIP 13 Singles\\[T10] line theta\\steps.ssc'\n",
    ")\n",
    "plot_rhythms(simfile_test)"
   ]
  },
  {
   "cell_type": "code",
   "execution_count": null,
   "metadata": {},
   "outputs": [],
   "source": [
    "simfile_test = simfile.open(\n",
    "    r'C:\\Games\\ITGmania\\Songs\\RIP 13 Singles\\[T07] Quick Attack (No CMOD)\\Quick Attack.sm'\n",
    ")\n",
    "plot_rhythms(simfile_test, time_based=True)\n",
    "plot_rhythms(simfile_test, time_based=False)"
   ]
  },
  {
   "cell_type": "code",
   "execution_count": null,
   "metadata": {},
   "outputs": [],
   "source": [
    "simfile_test = simfile.open(\n",
    "    r'C:\\Games\\ITGmania\\Songs\\RIP 13 Singles\\[T08] 7thSense (No CMOD)\\7th.ssc'\n",
    ")\n",
    "plot_rhythms(simfile_test, time_based=True)\n",
    "plot_rhythms(simfile_test, time_based=False)"
   ]
  },
  {
   "cell_type": "markdown",
   "metadata": {},
   "source": [
    "### Guiding principles\n",
    "perhaps these are radar points in an intermediate output?\n",
    "#### Variety\n",
    "the sheer quantity of different rhythmic patterns in a file regardless of where they appear\n",
    "#### Novelty\n",
    "the rate of switching between patterns the player is expected to do as they play through the song\n",
    "#### Fill\n",
    "the complexity of the patterns themselves given a particular subdivision\n",
    "#### Subdivision\n",
    "how the beat(s) are subdivided\n",
    "### Need to measure\n",
    "#### Difference between two patterns\n",
    "I feel like there should be some sort of \"dot product\" for two pattern \"vectors\".\n",
    "If they're unequal length maybe just truncate the longer one to use the later portion.\n",
    "#### Difficulty of an isolated pattern\n",
    "- subdivision matters: wholes < halves < quarters < eighths < sixths < sixteenths < twelfths < fifths < tenths < twentieths < sevenths < ...\n",
    "- at some point the subdivision is so small that attempting to conceptualize the timing isn't worth it compared to rounding off, but the timing skill of the player changes this a LOT (think 10.0ms mean error player vs. 4.0ms mean error player)\n",
    "- how to control flams and swing from being overweighted?\n",
    "- is there a difference between x ---x and  ---xx? I think so\n",
    "#### Selx--similarity?\n",
    "- can we define a passage's rhythmic complexity in terms of partial passages?\n",
    "#### Accounting for meter changes\n",
    "- not always in 4/4, might be 2/4 or 3/4, or have an ofx--length measure thrown in\n"
   ]
  },
  {
   "cell_type": "markdown",
   "metadata": {},
   "source": [
    "### Ranking (easiest to hardest)\n",
    "- x-----------------------x\n",
    "- x-----------x-----------x\n",
    "- x-----x-----x-----x-----x\n",
    "- x-----------x-----x-----x\n",
    "- x-----x-----x-----------x\n",
    "- x-----x-----------x-----x\n",
    "- ------------x-----------x\n",
    "- ------x-----x-----x-----x\n",
    "- ------------x-----x-----x\n",
    "- ------x-----x-----------x\n",
    "- ------x-----------x-----x\n",
    "- x-------x-------x-------x\n",
    "- x-------x-------x---x---x\n",
    "### I suspect that:\n",
    "- Dividing in half > Original\n",
    "- Trailing smallest quantization removal >= Leading smallest quantization removal > Fully articulated bar (e.g., 1e&. >= 1.&a > 1e&a)\n",
    "- Downbeat removal > Offbeat removal > downbeat present\n",
    "- 7-let rhythms > 5-let rhythms > Triplet rhythms > Duplet rhythms"
   ]
  }
 ],
 "metadata": {
  "interpreter": {
   "hash": "e370de9da903654768e066364e60adc850bb83526b434a3e92c9dc92a8fc08dd"
  },
  "kernelspec": {
   "display_name": "Python 3.9.1 64-bit ('rhythm-analyzer-mTtypg5s-py3.9': poetry)",
   "language": "python",
   "name": "python3"
  },
  "language_info": {
   "codemirror_mode": {
    "name": "ipython",
    "version": 3
   },
   "file_extension": ".py",
   "mimetype": "text/x-python",
   "name": "python",
   "nbconvert_exporter": "python",
   "pygments_lexer": "ipython3",
   "version": "3.9.1"
  },
  "orig_nbformat": 4
 },
 "nbformat": 4,
 "nbformat_minor": 2
}
